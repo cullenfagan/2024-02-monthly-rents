{
 "cells": [
  {
   "cell_type": "code",
   "execution_count": 1,
   "id": "12881b87",
   "metadata": {},
   "outputs": [
    {
     "data": {
      "text/plain": [
       "91201.0"
      ]
     },
     "execution_count": 1,
     "metadata": {},
     "output_type": "execute_result"
    }
   ],
   "source": [
    "#calculate trina's rent\n",
    "700/700+1_200+900*100"
   ]
  },
  {
   "cell_type": "code",
   "execution_count": 2,
   "id": "a79972fd",
   "metadata": {},
   "outputs": [
    {
     "data": {
      "text/plain": [
       "25.0"
      ]
     },
     "execution_count": 2,
     "metadata": {},
     "output_type": "execute_result"
    }
   ],
   "source": [
    "#calculate trina's rent correctly with PEMDAS\n",
    "700/(700+1_200+900)*100"
   ]
  },
  {
   "cell_type": "code",
   "execution_count": 3,
   "id": "00732dd6",
   "metadata": {},
   "outputs": [],
   "source": [
    "#assign rent amounts\n",
    "alfred_monthly_23 = 900\n",
    "fatima_monthly_23 = 1200\n",
    "trina_monthly_23 = 700"
   ]
  },
  {
   "cell_type": "code",
   "execution_count": 4,
   "id": "63f721b0",
   "metadata": {},
   "outputs": [],
   "source": [
    "#different way to assign\n",
    "alfred_m, fatima_m, trina_m = 900, 1200, 700"
   ]
  },
  {
   "cell_type": "code",
   "execution_count": 5,
   "id": "0dd67d77",
   "metadata": {},
   "outputs": [
    {
     "data": {
      "text/plain": [
       "900"
      ]
     },
     "execution_count": 5,
     "metadata": {},
     "output_type": "execute_result"
    }
   ],
   "source": [
    "#call variables\n",
    "alfred_m\n",
    "#fatima_monthly_23\n",
    "#trina_m"
   ]
  },
  {
   "cell_type": "code",
   "execution_count": 6,
   "id": "0a906de5",
   "metadata": {},
   "outputs": [
    {
     "data": {
      "text/plain": [
       "25.0"
      ]
     },
     "execution_count": 6,
     "metadata": {},
     "output_type": "execute_result"
    }
   ],
   "source": [
    "#calculate trina's share using variables\n",
    "trina_monthly_23 / (alfred_monthly_23 + fatima_monthly_23 + trina_monthly_23) * 100"
   ]
  },
  {
   "cell_type": "code",
   "execution_count": 7,
   "id": "6ae69918",
   "metadata": {},
   "outputs": [
    {
     "data": {
      "text/plain": [
       "25.0"
      ]
     },
     "execution_count": 7,
     "metadata": {},
     "output_type": "execute_result"
    }
   ],
   "source": [
    "# place result in variable\n",
    "trina_share_23 = trina_monthly_23 / (alfred_monthly_23 + fatima_monthly_23 + trina_monthly_23) * 100\n",
    "trina_share_23"
   ]
  },
  {
   "cell_type": "code",
   "execution_count": 8,
   "id": "a16b1471",
   "metadata": {},
   "outputs": [
    {
     "data": {
      "text/plain": [
       "25.0"
      ]
     },
     "execution_count": 8,
     "metadata": {},
     "output_type": "execute_result"
    }
   ],
   "source": [
    "#easier to read \n",
    "trina_share_23 =\\\n",
    "trina_monthly_23 / (alfred_monthly_23 +\\\n",
    "                    fatima_monthly_23 +\\\n",
    "                    trina_monthly_23) * 100\n",
    "trina_share_23"
   ]
  },
  {
   "cell_type": "code",
   "execution_count": null,
   "id": "c9efc921",
   "metadata": {},
   "outputs": [],
   "source": []
  },
  {
   "cell_type": "code",
   "execution_count": 9,
   "id": "ec47255c",
   "metadata": {},
   "outputs": [
    {
     "data": {
      "text/plain": [
       "(25.0, 900, 1200)"
      ]
     },
     "execution_count": 9,
     "metadata": {},
     "output_type": "execute_result"
    }
   ],
   "source": [
    "#call it\n",
    "(trina_share_23, alfred_monthly_23, fatima_monthly_23)"
   ]
  },
  {
   "cell_type": "code",
   "execution_count": null,
   "id": "aee83aca",
   "metadata": {},
   "outputs": [],
   "source": []
  },
  {
   "cell_type": "code",
   "execution_count": 10,
   "id": "5c571cdd",
   "metadata": {},
   "outputs": [
    {
     "name": "stdout",
     "output_type": "stream",
     "text": [
      "hello world\n"
     ]
    }
   ],
   "source": [
    "## print function\n",
    "print(\"hello world\")"
   ]
  },
  {
   "cell_type": "code",
   "execution_count": 11,
   "id": "ca741b60",
   "metadata": {},
   "outputs": [
    {
     "name": "stdout",
     "output_type": "stream",
     "text": [
      "900\n",
      "900 1200\n"
     ]
    }
   ],
   "source": [
    "## print variables\n",
    "print(alfred_monthly_23)\n",
    "print (alfred_monthly_23, fatima_monthly_23)"
   ]
  },
  {
   "cell_type": "code",
   "execution_count": 12,
   "id": "292ded0c",
   "metadata": {},
   "outputs": [
    {
     "name": "stdout",
     "output_type": "stream",
     "text": [
      "Trina's rent: $700\n",
      "Trina pays 25.0 percent of the total rent!\n"
     ]
    }
   ],
   "source": [
    "#using f-string\n",
    "## print total all monthly rents plus total using f-strings\n",
    "print(f\"Trina's rent: ${trina_monthly_23}\")\n",
    "print (f\"Trina pays {trina_share_23} percent of the total rent!\")"
   ]
  },
  {
   "cell_type": "code",
   "execution_count": 13,
   "id": "3321372a",
   "metadata": {},
   "outputs": [
    {
     "name": "stdout",
     "output_type": "stream",
     "text": [
      "The total monthly rent is:$2,800 and Trina's share is 25.0%.\n"
     ]
    }
   ],
   "source": [
    "##f strings also do calculations\n",
    "print (f\"The total monthly rent is:\\\n",
    "${alfred_monthly_23+fatima_monthly_23+trina_monthly_23:,} and Trina's share is {trina_share_23}%.\")"
   ]
  },
  {
   "cell_type": "code",
   "execution_count": null,
   "id": "1ba2be8b",
   "metadata": {},
   "outputs": [],
   "source": []
  }
 ],
 "metadata": {
  "kernelspec": {
   "display_name": "Python 3 (ipykernel)",
   "language": "python",
   "name": "python3"
  },
  "language_info": {
   "codemirror_mode": {
    "name": "ipython",
    "version": 3
   },
   "file_extension": ".py",
   "mimetype": "text/x-python",
   "name": "python",
   "nbconvert_exporter": "python",
   "pygments_lexer": "ipython3",
   "version": "3.11.5"
  }
 },
 "nbformat": 4,
 "nbformat_minor": 5
}
