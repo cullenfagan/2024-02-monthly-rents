{
 "cells": [
  {
   "cell_type": "code",
   "execution_count": 2,
   "id": "12881b87",
   "metadata": {},
   "outputs": [
    {
     "data": {
      "text/plain": [
       "91201.0"
      ]
     },
     "execution_count": 2,
     "metadata": {},
     "output_type": "execute_result"
    }
   ],
   "source": [
    "#calculate trina's rent\n",
    "700/700+1_200+900*100"
   ]
  },
  {
   "cell_type": "code",
   "execution_count": 3,
   "id": "a79972fd",
   "metadata": {},
   "outputs": [
    {
     "data": {
      "text/plain": [
       "25.0"
      ]
     },
     "execution_count": 3,
     "metadata": {},
     "output_type": "execute_result"
    }
   ],
   "source": [
    "#calculate trina's rent correctly with PEMDAS\n",
    "700/(700+1_200+900)*100"
   ]
  },
  {
   "cell_type": "code",
   "execution_count": 4,
   "id": "00732dd6",
   "metadata": {},
   "outputs": [],
   "source": [
    "#assign rent amounts\n",
    "alfred_monthly_23 = 900\n",
    "fatima_monthly_23 = 1200\n",
    "trina_monthly_23 = 700"
   ]
  },
  {
   "cell_type": "code",
   "execution_count": 5,
   "id": "63f721b0",
   "metadata": {},
   "outputs": [],
   "source": [
    "#different way to assign\n",
    "alfred_m, fatima_m, trina_m = 900, 1200, 700"
   ]
  },
  {
   "cell_type": "code",
   "execution_count": 10,
   "id": "0dd67d77",
   "metadata": {},
   "outputs": [
    {
     "data": {
      "text/plain": [
       "900"
      ]
     },
     "execution_count": 10,
     "metadata": {},
     "output_type": "execute_result"
    }
   ],
   "source": [
    "#call variables\n",
    "alfred_m\n",
    "#fatima_monthly_23\n",
    "#trina_m"
   ]
  },
  {
   "cell_type": "code",
   "execution_count": 11,
   "id": "0a906de5",
   "metadata": {},
   "outputs": [
    {
     "data": {
      "text/plain": [
       "25.0"
      ]
     },
     "execution_count": 11,
     "metadata": {},
     "output_type": "execute_result"
    }
   ],
   "source": [
    "#calculate trina's share using variables\n",
    "trina_monthly_23 / (alfred_monthly_23 + fatima_monthly_23 + trina_monthly_23) * 100"
   ]
  },
  {
   "cell_type": "code",
   "execution_count": 12,
   "id": "6ae69918",
   "metadata": {},
   "outputs": [
    {
     "data": {
      "text/plain": [
       "25.0"
      ]
     },
     "execution_count": 12,
     "metadata": {},
     "output_type": "execute_result"
    }
   ],
   "source": [
    "# place result in variable\n",
    "trina_share_23 = trina_monthly_23 / (alfred_monthly_23 + fatima_monthly_23 + trina_monthly_23) * 100\n",
    "trina_share_23"
   ]
  },
  {
   "cell_type": "code",
   "execution_count": 19,
   "id": "a16b1471",
   "metadata": {},
   "outputs": [
    {
     "ename": "SyntaxError",
     "evalue": "unexpected character after line continuation character (1362653984.py, line 3)",
     "output_type": "error",
     "traceback": [
      "\u001b[0;36m  Cell \u001b[0;32mIn[19], line 3\u001b[0;36m\u001b[0m\n\u001b[0;31m    trina_monthly_23 / (alfred_monthly_23 +\\\u001b[0m\n\u001b[0m                                             \n^\u001b[0m\n\u001b[0;31mSyntaxError\u001b[0m\u001b[0;31m:\u001b[0m unexpected character after line continuation character\n"
     ]
    }
   ],
   "source": [
    "#easier to read \n",
    "trina_share_23 = \\\n",
    "trina_monthly_23 / (alfred_monthly_23 +\\ \n",
    "                    fatima_monthly_23+\\\n",
    "                    trina_monthly_23) * 100\n",
    "trina_share_23"
   ]
  },
  {
   "cell_type": "code",
   "execution_count": null,
   "id": "ec47255c",
   "metadata": {},
   "outputs": [],
   "source": []
  }
 ],
 "metadata": {
  "kernelspec": {
   "display_name": "Python 3 (ipykernel)",
   "language": "python",
   "name": "python3"
  },
  "language_info": {
   "codemirror_mode": {
    "name": "ipython",
    "version": 3
   },
   "file_extension": ".py",
   "mimetype": "text/x-python",
   "name": "python",
   "nbconvert_exporter": "python",
   "pygments_lexer": "ipython3",
   "version": "3.11.5"
  }
 },
 "nbformat": 4,
 "nbformat_minor": 5
}
